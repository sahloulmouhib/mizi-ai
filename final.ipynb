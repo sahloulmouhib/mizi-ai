{
 "cells": [
  {
   "cell_type": "code",
   "execution_count": 99,
   "id": "3b4fc615",
   "metadata": {},
   "outputs": [],
   "source": [
    "import pandas as pd \n",
    "import numpy as np \n",
    "\n",
    "#Import dataset twice because the first one will be changed \n",
    "df2=pd.read_csv('./auctions.csv')\n",
    "df3=pd.read_csv('./auctions.csv')\n"
   ]
  },
  {
   "cell_type": "code",
   "execution_count": 100,
   "id": "2a37423f",
   "metadata": {},
   "outputs": [],
   "source": [
    "import pickle\n",
    "count_matrix = pickle.load(open(\"./model.pkl\", \"rb\"))"
   ]
  },
  {
   "cell_type": "code",
   "execution_count": 101,
   "id": "396d1bfc",
   "metadata": {},
   "outputs": [],
   "source": [
    "from sklearn.metrics.pairwise import cosine_similarity\n",
    "\n",
    "cosine_sim2 = cosine_similarity(count_matrix, count_matrix)"
   ]
  },
  {
   "cell_type": "code",
   "execution_count": 102,
   "id": "b5a49d69",
   "metadata": {},
   "outputs": [],
   "source": [
    "df2=df2.drop(['__v'], axis=1)\n",
    "df3=df3.drop(['__v'], axis=1)\n",
    "df2 = df2.drop(df2[df2.active == False].index)\n",
    "df3 = df3.drop(df3[df3.active == False].index)\n",
    "\n",
    "df2 = df2.reset_index()\n",
    "df3 = df3.reset_index()"
   ]
  },
  {
   "cell_type": "code",
   "execution_count": 103,
   "id": "c510a0d8",
   "metadata": {},
   "outputs": [
    {
     "name": "stdout",
     "output_type": "stream",
     "text": [
      "index              int64\n",
      "_id               object\n",
      "active              bool\n",
      "category          object\n",
      "closingDate       object\n",
      "currentPrice       int64\n",
      "description       object\n",
      "images            object\n",
      "numberOfBids       int64\n",
      "preferredPrice     int64\n",
      "startingDate      object\n",
      "startingPrice      int64\n",
      "thumbnail         object\n",
      "title             object\n",
      "user              object\n",
      "winningBidder     object\n",
      "dtype: object\n"
     ]
    }
   ],
   "source": [
    "print(df3.dtypes)"
   ]
  },
  {
   "cell_type": "code",
   "execution_count": 104,
   "id": "7661a5ef",
   "metadata": {},
   "outputs": [],
   "source": [
    "# Function that takes in auction auction_id as input and outputs most similar auctions\n",
    "def get_recommendations_metadata(auction_id, cosine_sim=cosine_sim2):\n",
    "    # Get the index of the auction that matches the auction_id\n",
    "    idx =df3.index[df3['_id'] == auction_id][0]\n",
    "    \n",
    "    # Get the pairwsie similarity scores of all auctions with that auction\n",
    "    sim_scores = list(enumerate(cosine_sim[idx]))\n",
    "\n",
    "    # Sort the auctions based on the similarity scores\n",
    "    sim_scores = sorted(sim_scores, key=lambda x: x[1], reverse=True)\n",
    "\n",
    "    # Get the scores of the 10 most similar auctions\n",
    "    sim_scores = sim_scores[1:6]\n",
    "\n",
    "    # Get the auction indices\n",
    "    auction_indices = [i[0] for i in sim_scores]\n",
    "\n",
    "    # Return the top 10 most similar auctions\n",
    "    return df3['_id'].iloc[auction_indices].to_json(orient = 'records')"
   ]
  },
  {
   "cell_type": "code",
   "execution_count": 105,
   "id": "769d9070",
   "metadata": {},
   "outputs": [
    {
     "data": {
      "text/plain": [
       "'[\"624ab4ab120476628c72c0fb\",\"624acd6096d978a86c9812bd\",\"62580a0d8461b29d70804449\",\"62580a4d8461b29d7080444c\",\"62541616b9ca2bd8a9861d10\"]'"
      ]
     },
     "execution_count": 105,
     "metadata": {},
     "output_type": "execute_result"
    }
   ],
   "source": [
    "get_recommendations_metadata('624eb59c8448373923b6fa35')"
   ]
  },
  {
   "cell_type": "markdown",
   "id": "f2d1fbb0",
   "metadata": {},
   "source": []
  },
  {
   "cell_type": "code",
   "execution_count": null,
   "id": "b0857c80",
   "metadata": {},
   "outputs": [],
   "source": []
  },
  {
   "cell_type": "code",
   "execution_count": null,
   "id": "85b1ae10",
   "metadata": {},
   "outputs": [],
   "source": []
  }
 ],
 "metadata": {
  "interpreter": {
   "hash": "ee3443e421e36d22ff0b8d8f7cbc0061db15e5035ca5cf7e7c836e8bb4df2ceb"
  },
  "kernelspec": {
   "display_name": "Python 3",
   "language": "python",
   "name": "python3"
  },
  "language_info": {
   "codemirror_mode": {
    "name": "ipython",
    "version": 3
   },
   "file_extension": ".py",
   "mimetype": "text/x-python",
   "name": "python",
   "nbconvert_exporter": "python",
   "pygments_lexer": "ipython3",
   "version": "3.8.8"
  }
 },
 "nbformat": 4,
 "nbformat_minor": 5
}
