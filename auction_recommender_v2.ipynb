{
 "cells": [
  {
   "cell_type": "markdown",
   "id": "LlrUH6bjn4Uy",
   "metadata": {
    "id": "LlrUH6bjn4Uy"
   },
   "source": [
    "\n",
    "**<h1>Content Based Rcoemmender system for Auctions </h1>**\n"
   ]
  },
  {
   "cell_type": "markdown",
   "id": "gnlhYQJYoTRF",
   "metadata": {
    "id": "gnlhYQJYoTRF"
   },
   "source": [
    "<h2>1- Import needed librairies and datasets</h2>"
   ]
  },
  {
   "cell_type": "code",
   "execution_count": 81,
   "id": "fbc1179b",
   "metadata": {
    "id": "fbc1179b"
   },
   "outputs": [],
   "source": [
    "import pandas as pd \n",
    "import numpy as np \n",
    "\n",
    "#Import dataset twice because the first one will be changed \n",
    "df2=pd.read_csv('C:/datasets/auctions.csv')\n",
    "df3=pd.read_csv('C:/datasets/auctions.csv')\n"
   ]
  },
  {
   "cell_type": "markdown",
   "id": "s1fCeiXEpBbc",
   "metadata": {
    "id": "s1fCeiXEpBbc"
   },
   "source": [
    "<h2>2- Dataset overview</h2>"
   ]
  },
  {
   "cell_type": "code",
   "execution_count": 82,
   "id": "tMug0XV6o_zd",
   "metadata": {
    "colab": {
     "base_uri": "https://localhost:8080/",
     "height": 1000
    },
    "id": "tMug0XV6o_zd",
    "outputId": "4d3b8dd3-04d0-4426-b914-fa32ee7015d7"
   },
   "outputs": [
    {
     "data": {
      "text/html": [
       "<div>\n",
       "<style scoped>\n",
       "    .dataframe tbody tr th:only-of-type {\n",
       "        vertical-align: middle;\n",
       "    }\n",
       "\n",
       "    .dataframe tbody tr th {\n",
       "        vertical-align: top;\n",
       "    }\n",
       "\n",
       "    .dataframe thead th {\n",
       "        text-align: right;\n",
       "    }\n",
       "</style>\n",
       "<table border=\"1\" class=\"dataframe\">\n",
       "  <thead>\n",
       "    <tr style=\"text-align: right;\">\n",
       "      <th></th>\n",
       "      <th>__v</th>\n",
       "      <th>_id</th>\n",
       "      <th>active</th>\n",
       "      <th>category</th>\n",
       "      <th>closingDate</th>\n",
       "      <th>currentPrice</th>\n",
       "      <th>description</th>\n",
       "      <th>images</th>\n",
       "      <th>numberOfBids</th>\n",
       "      <th>preferredPrice</th>\n",
       "      <th>startingDate</th>\n",
       "      <th>startingPrice</th>\n",
       "      <th>thumbnail</th>\n",
       "      <th>title</th>\n",
       "      <th>user</th>\n",
       "      <th>winningBidder</th>\n",
       "    </tr>\n",
       "  </thead>\n",
       "  <tbody>\n",
       "    <tr>\n",
       "      <th>0</th>\n",
       "      <td>0</td>\n",
       "      <td>407f1f77bcf86cd79943901a</td>\n",
       "      <td>False</td>\n",
       "      <td>jewelry and watches</td>\n",
       "      <td>2022-04-08T10:49:00.061Z</td>\n",
       "      <td>10057</td>\n",
       "      <td>Carbonite web goalkeeper gloves are ergonomica...</td>\n",
       "      <td>[\"https://source.unsplash.com/category/technol...</td>\n",
       "      <td>7</td>\n",
       "      <td>9460</td>\n",
       "      <td>2022-03-16T06:26:30.102Z</td>\n",
       "      <td>953</td>\n",
       "      <td>NaN</td>\n",
       "      <td>Sleek Steel Ball</td>\n",
       "      <td>507f1f77bcf86cd79943901a</td>\n",
       "      <td>621ce00fb5130c1808c984bf</td>\n",
       "    </tr>\n",
       "    <tr>\n",
       "      <th>1</th>\n",
       "      <td>0</td>\n",
       "      <td>407f1f77bcf86cd79943901b</td>\n",
       "      <td>False</td>\n",
       "      <td>antiques and primitives</td>\n",
       "      <td>2022-04-15T14:36:37.854Z</td>\n",
       "      <td>4093</td>\n",
       "      <td>The Football Is Good For Training And Recreati...</td>\n",
       "      <td>[\"https://source.unsplash.com/category/technol...</td>\n",
       "      <td>5</td>\n",
       "      <td>4052</td>\n",
       "      <td>2022-03-14T07:25:42.586Z</td>\n",
       "      <td>130</td>\n",
       "      <td>NaN</td>\n",
       "      <td>Ergonomic Granite Bacon</td>\n",
       "      <td>507f1f77bcf86cd79943901b</td>\n",
       "      <td>6241a82995e7475e444e9b3b</td>\n",
       "    </tr>\n",
       "    <tr>\n",
       "      <th>2</th>\n",
       "      <td>0</td>\n",
       "      <td>407f1f77bcf86cd79943901c</td>\n",
       "      <td>True</td>\n",
       "      <td>phones &amp; computers</td>\n",
       "      <td>2022-03-27T12:42:56.383Z</td>\n",
       "      <td>1100</td>\n",
       "      <td>Ergonomic executive chair upholstered in bonde...</td>\n",
       "      <td>[\"https://source.unsplash.com/category/technol...</td>\n",
       "      <td>1</td>\n",
       "      <td>5315</td>\n",
       "      <td>2022-03-16T19:24:46.394Z</td>\n",
       "      <td>104</td>\n",
       "      <td>NaN</td>\n",
       "      <td>Practical Concrete Cheese</td>\n",
       "      <td>507f1f77bcf86cd79943901c</td>\n",
       "      <td>NaN</td>\n",
       "    </tr>\n",
       "    <tr>\n",
       "      <th>3</th>\n",
       "      <td>0</td>\n",
       "      <td>407f1f77bcf86cd79943901d</td>\n",
       "      <td>True</td>\n",
       "      <td>antiques and primitives</td>\n",
       "      <td>2022-03-25T00:05:27.070Z</td>\n",
       "      <td>1788</td>\n",
       "      <td>The Apollotech B340 is an affordable wireless ...</td>\n",
       "      <td>[\"https://source.unsplash.com/category/technol...</td>\n",
       "      <td>6</td>\n",
       "      <td>1886</td>\n",
       "      <td>2022-03-15T04:09:11.037Z</td>\n",
       "      <td>739</td>\n",
       "      <td>NaN</td>\n",
       "      <td>Incredible Frozen Pants</td>\n",
       "      <td>507f1f77bcf86cd79943901d</td>\n",
       "      <td>NaN</td>\n",
       "    </tr>\n",
       "    <tr>\n",
       "      <th>4</th>\n",
       "      <td>0</td>\n",
       "      <td>407f1f77bcf86cd79943901e</td>\n",
       "      <td>True</td>\n",
       "      <td>electronics</td>\n",
       "      <td>2022-03-26T00:05:59.831Z</td>\n",
       "      <td>1854</td>\n",
       "      <td>The slim &amp; simple Maple Gaming Keyboard from D...</td>\n",
       "      <td>[\"https://source.unsplash.com/category/technol...</td>\n",
       "      <td>13</td>\n",
       "      <td>5535</td>\n",
       "      <td>2022-03-16T20:58:32.823Z</td>\n",
       "      <td>301</td>\n",
       "      <td>NaN</td>\n",
       "      <td>Rustic Metal Chair</td>\n",
       "      <td>507f1f77bcf86cd79943901e</td>\n",
       "      <td>NaN</td>\n",
       "    </tr>\n",
       "    <tr>\n",
       "      <th>5</th>\n",
       "      <td>0</td>\n",
       "      <td>407f1f77bcf86cd79943901f</td>\n",
       "      <td>True</td>\n",
       "      <td>electronics</td>\n",
       "      <td>2022-03-27T01:26:47.877Z</td>\n",
       "      <td>1543</td>\n",
       "      <td>The slim &amp; simple Maple Gaming Keyboard from D...</td>\n",
       "      <td>[\"https://source.unsplash.com/category/technol...</td>\n",
       "      <td>6</td>\n",
       "      <td>6368</td>\n",
       "      <td>2022-03-15T09:44:31.958Z</td>\n",
       "      <td>668</td>\n",
       "      <td>NaN</td>\n",
       "      <td>Incredible Plastic Shirt</td>\n",
       "      <td>507f1f77bcf86cd79943901f</td>\n",
       "      <td>NaN</td>\n",
       "    </tr>\n",
       "    <tr>\n",
       "      <th>6</th>\n",
       "      <td>0</td>\n",
       "      <td>6241a586dd804b5ba907bf58</td>\n",
       "      <td>True</td>\n",
       "      <td>automotives</td>\n",
       "      <td>2022-03-28T08:13:15.503Z</td>\n",
       "      <td>1490</td>\n",
       "      <td>The Nagasaki Lander is the trademarked name of...</td>\n",
       "      <td>[\"https://source.unsplash.com/category/technol...</td>\n",
       "      <td>3</td>\n",
       "      <td>4859</td>\n",
       "      <td>2022-03-16T08:37:21.416Z</td>\n",
       "      <td>980</td>\n",
       "      <td>NaN</td>\n",
       "      <td>Handcrafted Rubber Mouse</td>\n",
       "      <td>507f1f77bcf86cd79943901d</td>\n",
       "      <td>NaN</td>\n",
       "    </tr>\n",
       "    <tr>\n",
       "      <th>7</th>\n",
       "      <td>0</td>\n",
       "      <td>6241a586dd804b5ba907bf59</td>\n",
       "      <td>True</td>\n",
       "      <td>clothing and wellness</td>\n",
       "      <td>2022-03-28T12:05:54.793Z</td>\n",
       "      <td>1710</td>\n",
       "      <td>The slim &amp; simple Maple Gaming Keyboard from D...</td>\n",
       "      <td>[\"https://source.unsplash.com/category/technol...</td>\n",
       "      <td>7</td>\n",
       "      <td>3879</td>\n",
       "      <td>2022-03-14T13:44:09.532Z</td>\n",
       "      <td>643</td>\n",
       "      <td>NaN</td>\n",
       "      <td>Incredible Wooden Table</td>\n",
       "      <td>507f1f77bcf86cd79943901d</td>\n",
       "      <td>NaN</td>\n",
       "    </tr>\n",
       "    <tr>\n",
       "      <th>8</th>\n",
       "      <td>0</td>\n",
       "      <td>6241a586dd804b5ba907bf5c</td>\n",
       "      <td>True</td>\n",
       "      <td>jewelry and watches</td>\n",
       "      <td>2022-03-28T15:40:03.023Z</td>\n",
       "      <td>1893</td>\n",
       "      <td>The automobile layout consists of a front-engi...</td>\n",
       "      <td>[\"https://source.unsplash.com/category/technol...</td>\n",
       "      <td>16</td>\n",
       "      <td>8759</td>\n",
       "      <td>2022-03-14T11:48:35.552Z</td>\n",
       "      <td>162</td>\n",
       "      <td>NaN</td>\n",
       "      <td>Handcrafted Metal Tuna</td>\n",
       "      <td>507f1f77bcf86cd79943901a</td>\n",
       "      <td>NaN</td>\n",
       "    </tr>\n",
       "    <tr>\n",
       "      <th>9</th>\n",
       "      <td>0</td>\n",
       "      <td>6241a586dd804b5ba907bf5d</td>\n",
       "      <td>True</td>\n",
       "      <td>collectibles</td>\n",
       "      <td>2022-03-29T15:39:38.047Z</td>\n",
       "      <td>4815</td>\n",
       "      <td>Carbonite web goalkeeper gloves are ergonomica...</td>\n",
       "      <td>[\"https://source.unsplash.com/category/technol...</td>\n",
       "      <td>14</td>\n",
       "      <td>6240</td>\n",
       "      <td>2022-03-15T15:57:51.542Z</td>\n",
       "      <td>679</td>\n",
       "      <td>NaN</td>\n",
       "      <td>Rustic Cotton Mouse</td>\n",
       "      <td>507f1f77bcf86cd79943901b</td>\n",
       "      <td>NaN</td>\n",
       "    </tr>\n",
       "  </tbody>\n",
       "</table>\n",
       "</div>"
      ],
      "text/plain": [
       "   __v                       _id  active                 category  \\\n",
       "0    0  407f1f77bcf86cd79943901a   False      jewelry and watches   \n",
       "1    0  407f1f77bcf86cd79943901b   False  antiques and primitives   \n",
       "2    0  407f1f77bcf86cd79943901c    True       phones & computers   \n",
       "3    0  407f1f77bcf86cd79943901d    True  antiques and primitives   \n",
       "4    0  407f1f77bcf86cd79943901e    True              electronics   \n",
       "5    0  407f1f77bcf86cd79943901f    True              electronics   \n",
       "6    0  6241a586dd804b5ba907bf58    True              automotives   \n",
       "7    0  6241a586dd804b5ba907bf59    True    clothing and wellness   \n",
       "8    0  6241a586dd804b5ba907bf5c    True      jewelry and watches   \n",
       "9    0  6241a586dd804b5ba907bf5d    True             collectibles   \n",
       "\n",
       "                closingDate  currentPrice  \\\n",
       "0  2022-04-08T10:49:00.061Z         10057   \n",
       "1  2022-04-15T14:36:37.854Z          4093   \n",
       "2  2022-03-27T12:42:56.383Z          1100   \n",
       "3  2022-03-25T00:05:27.070Z          1788   \n",
       "4  2022-03-26T00:05:59.831Z          1854   \n",
       "5  2022-03-27T01:26:47.877Z          1543   \n",
       "6  2022-03-28T08:13:15.503Z          1490   \n",
       "7  2022-03-28T12:05:54.793Z          1710   \n",
       "8  2022-03-28T15:40:03.023Z          1893   \n",
       "9  2022-03-29T15:39:38.047Z          4815   \n",
       "\n",
       "                                         description  \\\n",
       "0  Carbonite web goalkeeper gloves are ergonomica...   \n",
       "1  The Football Is Good For Training And Recreati...   \n",
       "2  Ergonomic executive chair upholstered in bonde...   \n",
       "3  The Apollotech B340 is an affordable wireless ...   \n",
       "4  The slim & simple Maple Gaming Keyboard from D...   \n",
       "5  The slim & simple Maple Gaming Keyboard from D...   \n",
       "6  The Nagasaki Lander is the trademarked name of...   \n",
       "7  The slim & simple Maple Gaming Keyboard from D...   \n",
       "8  The automobile layout consists of a front-engi...   \n",
       "9  Carbonite web goalkeeper gloves are ergonomica...   \n",
       "\n",
       "                                              images  numberOfBids  \\\n",
       "0  [\"https://source.unsplash.com/category/technol...             7   \n",
       "1  [\"https://source.unsplash.com/category/technol...             5   \n",
       "2  [\"https://source.unsplash.com/category/technol...             1   \n",
       "3  [\"https://source.unsplash.com/category/technol...             6   \n",
       "4  [\"https://source.unsplash.com/category/technol...            13   \n",
       "5  [\"https://source.unsplash.com/category/technol...             6   \n",
       "6  [\"https://source.unsplash.com/category/technol...             3   \n",
       "7  [\"https://source.unsplash.com/category/technol...             7   \n",
       "8  [\"https://source.unsplash.com/category/technol...            16   \n",
       "9  [\"https://source.unsplash.com/category/technol...            14   \n",
       "\n",
       "   preferredPrice              startingDate  startingPrice thumbnail  \\\n",
       "0            9460  2022-03-16T06:26:30.102Z            953       NaN   \n",
       "1            4052  2022-03-14T07:25:42.586Z            130       NaN   \n",
       "2            5315  2022-03-16T19:24:46.394Z            104       NaN   \n",
       "3            1886  2022-03-15T04:09:11.037Z            739       NaN   \n",
       "4            5535  2022-03-16T20:58:32.823Z            301       NaN   \n",
       "5            6368  2022-03-15T09:44:31.958Z            668       NaN   \n",
       "6            4859  2022-03-16T08:37:21.416Z            980       NaN   \n",
       "7            3879  2022-03-14T13:44:09.532Z            643       NaN   \n",
       "8            8759  2022-03-14T11:48:35.552Z            162       NaN   \n",
       "9            6240  2022-03-15T15:57:51.542Z            679       NaN   \n",
       "\n",
       "                       title                      user  \\\n",
       "0           Sleek Steel Ball  507f1f77bcf86cd79943901a   \n",
       "1    Ergonomic Granite Bacon  507f1f77bcf86cd79943901b   \n",
       "2  Practical Concrete Cheese  507f1f77bcf86cd79943901c   \n",
       "3    Incredible Frozen Pants  507f1f77bcf86cd79943901d   \n",
       "4         Rustic Metal Chair  507f1f77bcf86cd79943901e   \n",
       "5   Incredible Plastic Shirt  507f1f77bcf86cd79943901f   \n",
       "6   Handcrafted Rubber Mouse  507f1f77bcf86cd79943901d   \n",
       "7    Incredible Wooden Table  507f1f77bcf86cd79943901d   \n",
       "8     Handcrafted Metal Tuna  507f1f77bcf86cd79943901a   \n",
       "9        Rustic Cotton Mouse  507f1f77bcf86cd79943901b   \n",
       "\n",
       "              winningBidder  \n",
       "0  621ce00fb5130c1808c984bf  \n",
       "1  6241a82995e7475e444e9b3b  \n",
       "2                       NaN  \n",
       "3                       NaN  \n",
       "4                       NaN  \n",
       "5                       NaN  \n",
       "6                       NaN  \n",
       "7                       NaN  \n",
       "8                       NaN  \n",
       "9                       NaN  "
      ]
     },
     "execution_count": 82,
     "metadata": {},
     "output_type": "execute_result"
    }
   ],
   "source": [
    "df2.head(10)"
   ]
  },
  {
   "cell_type": "code",
   "execution_count": 83,
   "id": "9f6cec7d",
   "metadata": {
    "colab": {
     "base_uri": "https://localhost:8080/",
     "height": 0
    },
    "id": "9f6cec7d",
    "outputId": "25696263-3abd-4962-b09a-18ddbc361e7a"
   },
   "outputs": [
    {
     "name": "stdout",
     "output_type": "stream",
     "text": [
      "<class 'pandas.core.frame.DataFrame'>\n",
      "RangeIndex: 115 entries, 0 to 114\n",
      "Data columns (total 16 columns):\n",
      " #   Column          Non-Null Count  Dtype \n",
      "---  ------          --------------  ----- \n",
      " 0   __v             115 non-null    int64 \n",
      " 1   _id             115 non-null    object\n",
      " 2   active          115 non-null    bool  \n",
      " 3   category        64 non-null     object\n",
      " 4   closingDate     115 non-null    object\n",
      " 5   currentPrice    115 non-null    int64 \n",
      " 6   description     115 non-null    object\n",
      " 7   images          115 non-null    object\n",
      " 8   numberOfBids    115 non-null    int64 \n",
      " 9   preferredPrice  115 non-null    int64 \n",
      " 10  startingDate    115 non-null    object\n",
      " 11  startingPrice   115 non-null    int64 \n",
      " 12  thumbnail       58 non-null     object\n",
      " 13  title           115 non-null    object\n",
      " 14  user            115 non-null    object\n",
      " 15  winningBidder   6 non-null      object\n",
      "dtypes: bool(1), int64(5), object(10)\n",
      "memory usage: 13.7+ KB\n"
     ]
    }
   ],
   "source": [
    "\n",
    "df2.info()"
   ]
  },
  {
   "cell_type": "markdown",
   "id": "R1Xm30i2pmrS",
   "metadata": {
    "id": "R1Xm30i2pmrS"
   },
   "source": [
    "<h2>3- Dataset cleaning</h2>"
   ]
  },
  {
   "cell_type": "code",
   "execution_count": 84,
   "id": "6EB58m1LhfH2",
   "metadata": {
    "id": "6EB58m1LhfH2"
   },
   "outputs": [],
   "source": [
    "df2=df2.drop(['__v'], axis=1)\n",
    "df3=df3.drop(['__v'], axis=1)\n",
    "df2 = df2.drop(df2[df2.active == False].index)\n",
    "df3 = df3.drop(df3[df3.active == False].index)\n",
    "\n",
    "df2 = df2.reset_index()\n",
    "df3 = df3.reset_index()"
   ]
  },
  {
   "cell_type": "code",
   "execution_count": 85,
   "id": "hnEc0ANfi7rs",
   "metadata": {
    "colab": {
     "base_uri": "https://localhost:8080/",
     "height": 0
    },
    "id": "hnEc0ANfi7rs",
    "outputId": "6285d619-821c-451e-907f-97f503ade714"
   },
   "outputs": [
    {
     "data": {
      "text/plain": [
       "(109, 16)"
      ]
     },
     "execution_count": 85,
     "metadata": {},
     "output_type": "execute_result"
    }
   ],
   "source": [
    "df3.shape\n"
   ]
  },
  {
   "cell_type": "markdown",
   "id": "wl3HY4YDp5pZ",
   "metadata": {
    "id": "wl3HY4YDp5pZ"
   },
   "source": [
    "<h2>4- Auction title based recommender</h2>"
   ]
  },
  {
   "cell_type": "code",
   "execution_count": 86,
   "id": "1f618570",
   "metadata": {
    "colab": {
     "base_uri": "https://localhost:8080/",
     "height": 0
    },
    "id": "1f618570",
    "outputId": "8b518da2-758b-4e3b-a5ea-f26e2d549dd6"
   },
   "outputs": [
    {
     "data": {
      "text/plain": [
       "(109, 61)"
      ]
     },
     "execution_count": 86,
     "metadata": {},
     "output_type": "execute_result"
    }
   ],
   "source": [
    "#Import TfIdfVectorizer from scikit-learn\n",
    "from sklearn.feature_extraction.text import TfidfVectorizer\n",
    "\n",
    "#Define a TF-IDF Vectorizer Object. Remove all english stop words such as 'the', 'a'....\n",
    "tfidf = TfidfVectorizer(stop_words='english')\n",
    "\n",
    "#Replace NaN with an empty string\n",
    "df2['title'] = df2['title'].fillna('')\n",
    "\n",
    "#Construct the required TF-IDF matrix by fitting and transforming the data\n",
    "tfidf_matrix = tfidf.fit_transform(df2['title'])\n",
    "\n",
    "#Output the shape of tfidf_matrix\n",
    "tfidf_matrix.shape"
   ]
  },
  {
   "cell_type": "code",
   "execution_count": 87,
   "id": "bd82a30a",
   "metadata": {
    "id": "bd82a30a"
   },
   "outputs": [],
   "source": [
    "# print(tfidf_matrix)"
   ]
  },
  {
   "cell_type": "code",
   "execution_count": 88,
   "id": "74d23c02",
   "metadata": {
    "id": "74d23c02"
   },
   "outputs": [],
   "source": [
    "# Import linear_kernel\n",
    "from sklearn.metrics.pairwise import linear_kernel\n",
    "\n",
    "# Compute the cosine similarity matrix\n",
    "cosine_sim = linear_kernel(tfidf_matrix, tfidf_matrix)"
   ]
  },
  {
   "cell_type": "code",
   "execution_count": 89,
   "id": "a35eb677",
   "metadata": {
    "id": "a35eb677"
   },
   "outputs": [],
   "source": [
    "# Function that takes in auction auction_id as input and outputs most similar auctions\n",
    "def get_recommendations_title(auction_id, cosine_sim=cosine_sim):\n",
    "    # Get the index of the auction that matches the auction_id\n",
    "    idx =df2.index[df2['_id'] == auction_id][0]\n",
    "    \n",
    "    # Get the pairwsie similarity scores of all auctions with that auction\n",
    "    sim_scores = list(enumerate(cosine_sim[idx]))\n",
    "\n",
    "    # Sort the auctions based on the similarity scores\n",
    "    sim_scores = sorted(sim_scores, key=lambda x: x[1], reverse=True)\n",
    "\n",
    "    # Get the scores of the 10 most similar auctions\n",
    "    sim_scores = sim_scores[1:11]\n",
    "\n",
    "    # Get the auction indices\n",
    "    auction_indices = [i[0] for i in sim_scores]\n",
    "\n",
    "    # Return the top 10 most similar auctions\n",
    "    return df3[['title','description','category','user']].iloc[auction_indices]"
   ]
  },
  {
   "cell_type": "code",
   "execution_count": 90,
   "id": "c64388f7",
   "metadata": {
    "id": "c64388f7"
   },
   "outputs": [],
   "source": [
    "#get_recommendations_title(\"407f1f77bcf86cd79943901b\")"
   ]
  },
  {
   "cell_type": "markdown",
   "id": "aMFVLaVtqKYJ",
   "metadata": {
    "id": "aMFVLaVtqKYJ"
   },
   "source": [
    "<h2>5- Auction metadata based recommender</h2>"
   ]
  },
  {
   "cell_type": "code",
   "execution_count": 91,
   "id": "87efdcd1",
   "metadata": {
    "id": "87efdcd1"
   },
   "outputs": [],
   "source": [
    "\n",
    "# from ast import literal_eval\n",
    "\n",
    "\n",
    "## Parse the stringified features into their corresponding python objects\n",
    "# features = ['keywords']\n",
    "# for feature in features:\n",
    "#     df2[feature] = df2[feature].apply(literal_eval)"
   ]
  },
  {
   "cell_type": "code",
   "execution_count": 92,
   "id": "PjC1FsM8aY9a",
   "metadata": {
    "id": "PjC1FsM8aY9a"
   },
   "outputs": [],
   "source": [
    "# # Returns the list top 3 elements or entire list; whichever is more.\n",
    "# def get_list(x):\n",
    "#     if isinstance(x, list):\n",
    "#         names = [i['name'] for i in x]\n",
    "#         #Check if more than 3 elements exist. If yes, return only first three. If no, return entire list.\n",
    "#         if len(names) > 3:\n",
    "#             names = names[:3]\n",
    "#         return names\n",
    "\n",
    "#     #Return empty list in case of missing/malformed data\n",
    "#     return []"
   ]
  },
  {
   "cell_type": "code",
   "execution_count": 93,
   "id": "JiXdn-YXal5R",
   "metadata": {
    "id": "JiXdn-YXal5R"
   },
   "outputs": [],
   "source": [
    "# # Define keywords features that are in a suitable form.\n",
    "\n",
    "\n",
    "# features = [keywords']\n",
    "# for feature in features:\n",
    "#     df2[feature] = df2[feature].apply(get_list)"
   ]
  },
  {
   "cell_type": "code",
   "execution_count": 94,
   "id": "fd2907a7",
   "metadata": {
    "colab": {
     "base_uri": "https://localhost:8080/",
     "height": 143
    },
    "id": "fd2907a7",
    "outputId": "24df9099-853b-4abf-bf92-6af445a4ff69"
   },
   "outputs": [
    {
     "data": {
      "text/html": [
       "<div>\n",
       "<style scoped>\n",
       "    .dataframe tbody tr th:only-of-type {\n",
       "        vertical-align: middle;\n",
       "    }\n",
       "\n",
       "    .dataframe tbody tr th {\n",
       "        vertical-align: top;\n",
       "    }\n",
       "\n",
       "    .dataframe thead th {\n",
       "        text-align: right;\n",
       "    }\n",
       "</style>\n",
       "<table border=\"1\" class=\"dataframe\">\n",
       "  <thead>\n",
       "    <tr style=\"text-align: right;\">\n",
       "      <th></th>\n",
       "      <th>category</th>\n",
       "      <th>title</th>\n",
       "      <th>description</th>\n",
       "    </tr>\n",
       "  </thead>\n",
       "  <tbody>\n",
       "    <tr>\n",
       "      <th>0</th>\n",
       "      <td>phones &amp; computers</td>\n",
       "      <td>Practical Concrete Cheese</td>\n",
       "      <td>Ergonomic executive chair upholstered in bonde...</td>\n",
       "    </tr>\n",
       "    <tr>\n",
       "      <th>1</th>\n",
       "      <td>antiques and primitives</td>\n",
       "      <td>Incredible Frozen Pants</td>\n",
       "      <td>The Apollotech B340 is an affordable wireless ...</td>\n",
       "    </tr>\n",
       "    <tr>\n",
       "      <th>2</th>\n",
       "      <td>electronics</td>\n",
       "      <td>Rustic Metal Chair</td>\n",
       "      <td>The slim &amp; simple Maple Gaming Keyboard from D...</td>\n",
       "    </tr>\n",
       "  </tbody>\n",
       "</table>\n",
       "</div>"
      ],
      "text/plain": [
       "                  category                      title  \\\n",
       "0       phones & computers  Practical Concrete Cheese   \n",
       "1  antiques and primitives    Incredible Frozen Pants   \n",
       "2              electronics         Rustic Metal Chair   \n",
       "\n",
       "                                         description  \n",
       "0  Ergonomic executive chair upholstered in bonde...  \n",
       "1  The Apollotech B340 is an affordable wireless ...  \n",
       "2  The slim & simple Maple Gaming Keyboard from D...  "
      ]
     },
     "execution_count": 94,
     "metadata": {},
     "output_type": "execute_result"
    }
   ],
   "source": [
    "df2[['category', 'title', 'description']].head(3)"
   ]
  },
  {
   "cell_type": "code",
   "execution_count": 95,
   "id": "daf112e5",
   "metadata": {
    "id": "daf112e5"
   },
   "outputs": [],
   "source": [
    "# Function to convert all strings to lower case and strip names of spaces\n",
    "def clean_data(x):\n",
    "    \n",
    "    if isinstance(x, list):\n",
    "        \n",
    "        return [str.lower(i.replace(\" \", \"\")) for i in x]\n",
    "        \n",
    "    else:\n",
    "        #Check if director exists. If not, return empty string\n",
    "       \n",
    "        if isinstance(x, str):\n",
    "            return str.lower(x.replace(\" \", \"\"))\n",
    "        else:\n",
    "            return ''"
   ]
  },
  {
   "cell_type": "code",
   "execution_count": 96,
   "id": "hKBZD3Ki_VWX",
   "metadata": {
    "id": "hKBZD3Ki_VWX"
   },
   "outputs": [],
   "source": [
    "\n",
    "# df3[\"keywords\"] = df2[\"keywords\"].apply(clean_data)"
   ]
  },
  {
   "cell_type": "code",
   "execution_count": 97,
   "id": "971b95bc",
   "metadata": {
    "id": "971b95bc"
   },
   "outputs": [],
   "source": [
    "# Apply clean_data function to your features.\n",
    "features = ['category']\n",
    "\n",
    "for feature in features:\n",
    "    df2[feature] = df2[feature].apply(clean_data)"
   ]
  },
  {
   "cell_type": "code",
   "execution_count": 98,
   "id": "871dfef8",
   "metadata": {
    "colab": {
     "base_uri": "https://localhost:8080/",
     "height": 0
    },
    "id": "871dfef8",
    "outputId": "fabcc7c5-b2ee-4579-e0b6-cc945fed470e"
   },
   "outputs": [
    {
     "name": "stdout",
     "output_type": "stream",
     "text": [
      "phones&computers Practical Concrete Cheese Ergonomic executive chair upholstered in bonded black leather and PVC padded seat and back for all-day comfort and support 507f1f77bcf86cd79943901c\n"
     ]
    }
   ],
   "source": [
    "def create_soup(x):\n",
    "    #return ( x['category']+' '+x['title']+' '+x['keywords']+' '+x['user'])\n",
    "    return ( x['category']+' '+x['title']+ ' '+x['description']+\" \"+x['user'])\n",
    "df2['soup'] = df2.apply(create_soup, axis=1)\n",
    "print(df2['soup'][0])"
   ]
  },
  {
   "cell_type": "code",
   "execution_count": 99,
   "id": "c8d15e87",
   "metadata": {
    "id": "c8d15e87"
   },
   "outputs": [],
   "source": [
    "# Import CountVectorizer and create the count matrix\n",
    "from sklearn.feature_extraction.text import CountVectorizer\n",
    "\n",
    "count = CountVectorizer(stop_words='english')\n",
    "\n",
    "count_matrix = count.fit_transform(df2['soup'])\n"
   ]
  },
  {
   "cell_type": "code",
   "execution_count": 100,
   "id": "72f3f996",
   "metadata": {
    "id": "72f3f996"
   },
   "outputs": [],
   "source": [
    "from sklearn.metrics.pairwise import cosine_similarity\n",
    "\n",
    "cosine_sim2 = cosine_similarity(count_matrix, count_matrix)"
   ]
  },
  {
   "cell_type": "code",
   "execution_count": 101,
   "id": "yeqwzKaiuuR7",
   "metadata": {
    "id": "yeqwzKaiuuR7"
   },
   "outputs": [],
   "source": [
    "# Function that takes in auction auction_id as input and outputs most similar auctions\n",
    "def get_recommendations_metadata(auction_id, cosine_sim=cosine_sim2):\n",
    "    # Get the index of the auction that matches the auction_id\n",
    "    idx =df2.index[df2['_id'] == auction_id][0]\n",
    "    \n",
    "    # Get the pairwsie similarity scores of all auctions with that auction\n",
    "    sim_scores = list(enumerate(cosine_sim[idx]))\n",
    "\n",
    "    # Sort the auctions based on the similarity scores\n",
    "    sim_scores = sorted(sim_scores, key=lambda x: x[1], reverse=True)\n",
    "\n",
    "    # Get the scores of the 10 most similar auctions\n",
    "    sim_scores = sim_scores[1:11]\n",
    "\n",
    "    # Get the auction indices\n",
    "    auction_indices = [i[0] for i in sim_scores]\n",
    "\n",
    "    # Return the top 10 most similar auctions\n",
    "    return df3['_id'].iloc[auction_indices].to_json(orient = 'records')"
   ]
  },
  {
   "cell_type": "code",
   "execution_count": 102,
   "id": "ycp0KEkl6z4v",
   "metadata": {
    "id": "ycp0KEkl6z4v"
   },
   "outputs": [],
   "source": [
    "# import pickle\n",
    "# pickle.dump(get_recommendations_metadata, open(\"model.pkl\", \"wb\"))"
   ]
  },
  {
   "cell_type": "code",
   "execution_count": 103,
   "id": "jrD824ES860Z",
   "metadata": {
    "colab": {
     "base_uri": "https://localhost:8080/",
     "height": 0
    },
    "id": "jrD824ES860Z",
    "outputId": "4bff905e-a43d-40fe-877e-4d1750cf2a66"
   },
   "outputs": [],
   "source": [
    "# model = pickle.load(open(\"./model.pkl\", \"rb\"))\n",
    "# my_personality = model('407f1f77bcf86cd79943901c')\n",
    "# print('result: ', my_personality)"
   ]
  },
  {
   "cell_type": "markdown",
   "id": "Y-_lty0o9LqT",
   "metadata": {
    "id": "Y-_lty0o9LqT"
   },
   "source": []
  },
  {
   "cell_type": "code",
   "execution_count": 104,
   "id": "6ad6953c",
   "metadata": {
    "id": "6ad6953c"
   },
   "outputs": [
    {
     "data": {
      "text/plain": [
       "'[\"6241a586dd804b5ba907bf61\",\"407f1f77bcf86cd79943901c\",\"6241a586dd804b5ba907bf67\",\"407f1f77bcf86cd79943901e\",\"6241a586dd804b5ba907bf68\",\"6241a586dd804b5ba907bf6a\",\"407f1f77bcf86cd79943901d\",\"407f1f77bcf86cd79943901f\",\"6241a586dd804b5ba907bf59\",\"6241a586dd804b5ba907bf58\"]'"
      ]
     },
     "execution_count": 104,
     "metadata": {},
     "output_type": "execute_result"
    }
   ],
   "source": [
    "get_recommendations_metadata('6241a586dd804b5ba907bf60')"
   ]
  },
  {
   "cell_type": "code",
   "execution_count": 105,
   "id": "lVvpuZ2XrlAX",
   "metadata": {
    "colab": {
     "base_uri": "https://localhost:8080/",
     "height": 617
    },
    "id": "lVvpuZ2XrlAX",
    "outputId": "a7a1bcb4-897c-4024-ece2-ef36e2c27edf"
   },
   "outputs": [
    {
     "data": {
      "text/html": [
       "<div>\n",
       "<style scoped>\n",
       "    .dataframe tbody tr th:only-of-type {\n",
       "        vertical-align: middle;\n",
       "    }\n",
       "\n",
       "    .dataframe tbody tr th {\n",
       "        vertical-align: top;\n",
       "    }\n",
       "\n",
       "    .dataframe thead th {\n",
       "        text-align: right;\n",
       "    }\n",
       "</style>\n",
       "<table border=\"1\" class=\"dataframe\">\n",
       "  <thead>\n",
       "    <tr style=\"text-align: right;\">\n",
       "      <th></th>\n",
       "      <th>index</th>\n",
       "      <th>_id</th>\n",
       "      <th>active</th>\n",
       "      <th>category</th>\n",
       "      <th>closingDate</th>\n",
       "      <th>currentPrice</th>\n",
       "      <th>description</th>\n",
       "      <th>images</th>\n",
       "      <th>numberOfBids</th>\n",
       "      <th>preferredPrice</th>\n",
       "      <th>startingDate</th>\n",
       "      <th>startingPrice</th>\n",
       "      <th>thumbnail</th>\n",
       "      <th>title</th>\n",
       "      <th>user</th>\n",
       "      <th>winningBidder</th>\n",
       "    </tr>\n",
       "  </thead>\n",
       "  <tbody>\n",
       "    <tr>\n",
       "      <th>0</th>\n",
       "      <td>2</td>\n",
       "      <td>407f1f77bcf86cd79943901c</td>\n",
       "      <td>True</td>\n",
       "      <td>phones &amp; computers</td>\n",
       "      <td>2022-03-27T12:42:56.383Z</td>\n",
       "      <td>1100</td>\n",
       "      <td>Ergonomic executive chair upholstered in bonde...</td>\n",
       "      <td>[\"https://source.unsplash.com/category/technol...</td>\n",
       "      <td>1</td>\n",
       "      <td>5315</td>\n",
       "      <td>2022-03-16T19:24:46.394Z</td>\n",
       "      <td>104</td>\n",
       "      <td>NaN</td>\n",
       "      <td>Practical Concrete Cheese</td>\n",
       "      <td>507f1f77bcf86cd79943901c</td>\n",
       "      <td>NaN</td>\n",
       "    </tr>\n",
       "    <tr>\n",
       "      <th>1</th>\n",
       "      <td>3</td>\n",
       "      <td>407f1f77bcf86cd79943901d</td>\n",
       "      <td>True</td>\n",
       "      <td>antiques and primitives</td>\n",
       "      <td>2022-03-25T00:05:27.070Z</td>\n",
       "      <td>1788</td>\n",
       "      <td>The Apollotech B340 is an affordable wireless ...</td>\n",
       "      <td>[\"https://source.unsplash.com/category/technol...</td>\n",
       "      <td>6</td>\n",
       "      <td>1886</td>\n",
       "      <td>2022-03-15T04:09:11.037Z</td>\n",
       "      <td>739</td>\n",
       "      <td>NaN</td>\n",
       "      <td>Incredible Frozen Pants</td>\n",
       "      <td>507f1f77bcf86cd79943901d</td>\n",
       "      <td>NaN</td>\n",
       "    </tr>\n",
       "    <tr>\n",
       "      <th>2</th>\n",
       "      <td>4</td>\n",
       "      <td>407f1f77bcf86cd79943901e</td>\n",
       "      <td>True</td>\n",
       "      <td>electronics</td>\n",
       "      <td>2022-03-26T00:05:59.831Z</td>\n",
       "      <td>1854</td>\n",
       "      <td>The slim &amp; simple Maple Gaming Keyboard from D...</td>\n",
       "      <td>[\"https://source.unsplash.com/category/technol...</td>\n",
       "      <td>13</td>\n",
       "      <td>5535</td>\n",
       "      <td>2022-03-16T20:58:32.823Z</td>\n",
       "      <td>301</td>\n",
       "      <td>NaN</td>\n",
       "      <td>Rustic Metal Chair</td>\n",
       "      <td>507f1f77bcf86cd79943901e</td>\n",
       "      <td>NaN</td>\n",
       "    </tr>\n",
       "    <tr>\n",
       "      <th>3</th>\n",
       "      <td>5</td>\n",
       "      <td>407f1f77bcf86cd79943901f</td>\n",
       "      <td>True</td>\n",
       "      <td>electronics</td>\n",
       "      <td>2022-03-27T01:26:47.877Z</td>\n",
       "      <td>1543</td>\n",
       "      <td>The slim &amp; simple Maple Gaming Keyboard from D...</td>\n",
       "      <td>[\"https://source.unsplash.com/category/technol...</td>\n",
       "      <td>6</td>\n",
       "      <td>6368</td>\n",
       "      <td>2022-03-15T09:44:31.958Z</td>\n",
       "      <td>668</td>\n",
       "      <td>NaN</td>\n",
       "      <td>Incredible Plastic Shirt</td>\n",
       "      <td>507f1f77bcf86cd79943901f</td>\n",
       "      <td>NaN</td>\n",
       "    </tr>\n",
       "    <tr>\n",
       "      <th>4</th>\n",
       "      <td>6</td>\n",
       "      <td>6241a586dd804b5ba907bf58</td>\n",
       "      <td>True</td>\n",
       "      <td>automotives</td>\n",
       "      <td>2022-03-28T08:13:15.503Z</td>\n",
       "      <td>1490</td>\n",
       "      <td>The Nagasaki Lander is the trademarked name of...</td>\n",
       "      <td>[\"https://source.unsplash.com/category/technol...</td>\n",
       "      <td>3</td>\n",
       "      <td>4859</td>\n",
       "      <td>2022-03-16T08:37:21.416Z</td>\n",
       "      <td>980</td>\n",
       "      <td>NaN</td>\n",
       "      <td>Handcrafted Rubber Mouse</td>\n",
       "      <td>507f1f77bcf86cd79943901d</td>\n",
       "      <td>NaN</td>\n",
       "    </tr>\n",
       "  </tbody>\n",
       "</table>\n",
       "</div>"
      ],
      "text/plain": [
       "   index                       _id  active                 category  \\\n",
       "0      2  407f1f77bcf86cd79943901c    True       phones & computers   \n",
       "1      3  407f1f77bcf86cd79943901d    True  antiques and primitives   \n",
       "2      4  407f1f77bcf86cd79943901e    True              electronics   \n",
       "3      5  407f1f77bcf86cd79943901f    True              electronics   \n",
       "4      6  6241a586dd804b5ba907bf58    True              automotives   \n",
       "\n",
       "                closingDate  currentPrice  \\\n",
       "0  2022-03-27T12:42:56.383Z          1100   \n",
       "1  2022-03-25T00:05:27.070Z          1788   \n",
       "2  2022-03-26T00:05:59.831Z          1854   \n",
       "3  2022-03-27T01:26:47.877Z          1543   \n",
       "4  2022-03-28T08:13:15.503Z          1490   \n",
       "\n",
       "                                         description  \\\n",
       "0  Ergonomic executive chair upholstered in bonde...   \n",
       "1  The Apollotech B340 is an affordable wireless ...   \n",
       "2  The slim & simple Maple Gaming Keyboard from D...   \n",
       "3  The slim & simple Maple Gaming Keyboard from D...   \n",
       "4  The Nagasaki Lander is the trademarked name of...   \n",
       "\n",
       "                                              images  numberOfBids  \\\n",
       "0  [\"https://source.unsplash.com/category/technol...             1   \n",
       "1  [\"https://source.unsplash.com/category/technol...             6   \n",
       "2  [\"https://source.unsplash.com/category/technol...            13   \n",
       "3  [\"https://source.unsplash.com/category/technol...             6   \n",
       "4  [\"https://source.unsplash.com/category/technol...             3   \n",
       "\n",
       "   preferredPrice              startingDate  startingPrice thumbnail  \\\n",
       "0            5315  2022-03-16T19:24:46.394Z            104       NaN   \n",
       "1            1886  2022-03-15T04:09:11.037Z            739       NaN   \n",
       "2            5535  2022-03-16T20:58:32.823Z            301       NaN   \n",
       "3            6368  2022-03-15T09:44:31.958Z            668       NaN   \n",
       "4            4859  2022-03-16T08:37:21.416Z            980       NaN   \n",
       "\n",
       "                       title                      user winningBidder  \n",
       "0  Practical Concrete Cheese  507f1f77bcf86cd79943901c           NaN  \n",
       "1    Incredible Frozen Pants  507f1f77bcf86cd79943901d           NaN  \n",
       "2         Rustic Metal Chair  507f1f77bcf86cd79943901e           NaN  \n",
       "3   Incredible Plastic Shirt  507f1f77bcf86cd79943901f           NaN  \n",
       "4   Handcrafted Rubber Mouse  507f1f77bcf86cd79943901d           NaN  "
      ]
     },
     "execution_count": 105,
     "metadata": {},
     "output_type": "execute_result"
    }
   ],
   "source": [
    "df3.head()"
   ]
  },
  {
   "cell_type": "code",
   "execution_count": 106,
   "id": "KxsoXAk2rnx0",
   "metadata": {
    "colab": {
     "base_uri": "https://localhost:8080/",
     "height": 617
    },
    "id": "KxsoXAk2rnx0",
    "outputId": "6bfc9d36-3f50-4e86-ac18-6f5747edeafc"
   },
   "outputs": [
    {
     "data": {
      "text/html": [
       "<div>\n",
       "<style scoped>\n",
       "    .dataframe tbody tr th:only-of-type {\n",
       "        vertical-align: middle;\n",
       "    }\n",
       "\n",
       "    .dataframe tbody tr th {\n",
       "        vertical-align: top;\n",
       "    }\n",
       "\n",
       "    .dataframe thead th {\n",
       "        text-align: right;\n",
       "    }\n",
       "</style>\n",
       "<table border=\"1\" class=\"dataframe\">\n",
       "  <thead>\n",
       "    <tr style=\"text-align: right;\">\n",
       "      <th></th>\n",
       "      <th>index</th>\n",
       "      <th>_id</th>\n",
       "      <th>active</th>\n",
       "      <th>category</th>\n",
       "      <th>closingDate</th>\n",
       "      <th>currentPrice</th>\n",
       "      <th>description</th>\n",
       "      <th>images</th>\n",
       "      <th>numberOfBids</th>\n",
       "      <th>preferredPrice</th>\n",
       "      <th>startingDate</th>\n",
       "      <th>startingPrice</th>\n",
       "      <th>thumbnail</th>\n",
       "      <th>title</th>\n",
       "      <th>user</th>\n",
       "      <th>winningBidder</th>\n",
       "      <th>soup</th>\n",
       "    </tr>\n",
       "  </thead>\n",
       "  <tbody>\n",
       "    <tr>\n",
       "      <th>0</th>\n",
       "      <td>2</td>\n",
       "      <td>407f1f77bcf86cd79943901c</td>\n",
       "      <td>True</td>\n",
       "      <td>phones&amp;computers</td>\n",
       "      <td>2022-03-27T12:42:56.383Z</td>\n",
       "      <td>1100</td>\n",
       "      <td>Ergonomic executive chair upholstered in bonde...</td>\n",
       "      <td>[\"https://source.unsplash.com/category/technol...</td>\n",
       "      <td>1</td>\n",
       "      <td>5315</td>\n",
       "      <td>2022-03-16T19:24:46.394Z</td>\n",
       "      <td>104</td>\n",
       "      <td>NaN</td>\n",
       "      <td>Practical Concrete Cheese</td>\n",
       "      <td>507f1f77bcf86cd79943901c</td>\n",
       "      <td>NaN</td>\n",
       "      <td>phones&amp;computers Practical Concrete Cheese Erg...</td>\n",
       "    </tr>\n",
       "    <tr>\n",
       "      <th>1</th>\n",
       "      <td>3</td>\n",
       "      <td>407f1f77bcf86cd79943901d</td>\n",
       "      <td>True</td>\n",
       "      <td>antiquesandprimitives</td>\n",
       "      <td>2022-03-25T00:05:27.070Z</td>\n",
       "      <td>1788</td>\n",
       "      <td>The Apollotech B340 is an affordable wireless ...</td>\n",
       "      <td>[\"https://source.unsplash.com/category/technol...</td>\n",
       "      <td>6</td>\n",
       "      <td>1886</td>\n",
       "      <td>2022-03-15T04:09:11.037Z</td>\n",
       "      <td>739</td>\n",
       "      <td>NaN</td>\n",
       "      <td>Incredible Frozen Pants</td>\n",
       "      <td>507f1f77bcf86cd79943901d</td>\n",
       "      <td>NaN</td>\n",
       "      <td>antiquesandprimitives Incredible Frozen Pants ...</td>\n",
       "    </tr>\n",
       "    <tr>\n",
       "      <th>2</th>\n",
       "      <td>4</td>\n",
       "      <td>407f1f77bcf86cd79943901e</td>\n",
       "      <td>True</td>\n",
       "      <td>electronics</td>\n",
       "      <td>2022-03-26T00:05:59.831Z</td>\n",
       "      <td>1854</td>\n",
       "      <td>The slim &amp; simple Maple Gaming Keyboard from D...</td>\n",
       "      <td>[\"https://source.unsplash.com/category/technol...</td>\n",
       "      <td>13</td>\n",
       "      <td>5535</td>\n",
       "      <td>2022-03-16T20:58:32.823Z</td>\n",
       "      <td>301</td>\n",
       "      <td>NaN</td>\n",
       "      <td>Rustic Metal Chair</td>\n",
       "      <td>507f1f77bcf86cd79943901e</td>\n",
       "      <td>NaN</td>\n",
       "      <td>electronics Rustic Metal Chair The slim &amp; simp...</td>\n",
       "    </tr>\n",
       "    <tr>\n",
       "      <th>3</th>\n",
       "      <td>5</td>\n",
       "      <td>407f1f77bcf86cd79943901f</td>\n",
       "      <td>True</td>\n",
       "      <td>electronics</td>\n",
       "      <td>2022-03-27T01:26:47.877Z</td>\n",
       "      <td>1543</td>\n",
       "      <td>The slim &amp; simple Maple Gaming Keyboard from D...</td>\n",
       "      <td>[\"https://source.unsplash.com/category/technol...</td>\n",
       "      <td>6</td>\n",
       "      <td>6368</td>\n",
       "      <td>2022-03-15T09:44:31.958Z</td>\n",
       "      <td>668</td>\n",
       "      <td>NaN</td>\n",
       "      <td>Incredible Plastic Shirt</td>\n",
       "      <td>507f1f77bcf86cd79943901f</td>\n",
       "      <td>NaN</td>\n",
       "      <td>electronics Incredible Plastic Shirt The slim ...</td>\n",
       "    </tr>\n",
       "    <tr>\n",
       "      <th>4</th>\n",
       "      <td>6</td>\n",
       "      <td>6241a586dd804b5ba907bf58</td>\n",
       "      <td>True</td>\n",
       "      <td>automotives</td>\n",
       "      <td>2022-03-28T08:13:15.503Z</td>\n",
       "      <td>1490</td>\n",
       "      <td>The Nagasaki Lander is the trademarked name of...</td>\n",
       "      <td>[\"https://source.unsplash.com/category/technol...</td>\n",
       "      <td>3</td>\n",
       "      <td>4859</td>\n",
       "      <td>2022-03-16T08:37:21.416Z</td>\n",
       "      <td>980</td>\n",
       "      <td>NaN</td>\n",
       "      <td>Handcrafted Rubber Mouse</td>\n",
       "      <td>507f1f77bcf86cd79943901d</td>\n",
       "      <td>NaN</td>\n",
       "      <td>automotives Handcrafted Rubber Mouse The Nagas...</td>\n",
       "    </tr>\n",
       "  </tbody>\n",
       "</table>\n",
       "</div>"
      ],
      "text/plain": [
       "   index                       _id  active               category  \\\n",
       "0      2  407f1f77bcf86cd79943901c    True       phones&computers   \n",
       "1      3  407f1f77bcf86cd79943901d    True  antiquesandprimitives   \n",
       "2      4  407f1f77bcf86cd79943901e    True            electronics   \n",
       "3      5  407f1f77bcf86cd79943901f    True            electronics   \n",
       "4      6  6241a586dd804b5ba907bf58    True            automotives   \n",
       "\n",
       "                closingDate  currentPrice  \\\n",
       "0  2022-03-27T12:42:56.383Z          1100   \n",
       "1  2022-03-25T00:05:27.070Z          1788   \n",
       "2  2022-03-26T00:05:59.831Z          1854   \n",
       "3  2022-03-27T01:26:47.877Z          1543   \n",
       "4  2022-03-28T08:13:15.503Z          1490   \n",
       "\n",
       "                                         description  \\\n",
       "0  Ergonomic executive chair upholstered in bonde...   \n",
       "1  The Apollotech B340 is an affordable wireless ...   \n",
       "2  The slim & simple Maple Gaming Keyboard from D...   \n",
       "3  The slim & simple Maple Gaming Keyboard from D...   \n",
       "4  The Nagasaki Lander is the trademarked name of...   \n",
       "\n",
       "                                              images  numberOfBids  \\\n",
       "0  [\"https://source.unsplash.com/category/technol...             1   \n",
       "1  [\"https://source.unsplash.com/category/technol...             6   \n",
       "2  [\"https://source.unsplash.com/category/technol...            13   \n",
       "3  [\"https://source.unsplash.com/category/technol...             6   \n",
       "4  [\"https://source.unsplash.com/category/technol...             3   \n",
       "\n",
       "   preferredPrice              startingDate  startingPrice thumbnail  \\\n",
       "0            5315  2022-03-16T19:24:46.394Z            104       NaN   \n",
       "1            1886  2022-03-15T04:09:11.037Z            739       NaN   \n",
       "2            5535  2022-03-16T20:58:32.823Z            301       NaN   \n",
       "3            6368  2022-03-15T09:44:31.958Z            668       NaN   \n",
       "4            4859  2022-03-16T08:37:21.416Z            980       NaN   \n",
       "\n",
       "                       title                      user winningBidder  \\\n",
       "0  Practical Concrete Cheese  507f1f77bcf86cd79943901c           NaN   \n",
       "1    Incredible Frozen Pants  507f1f77bcf86cd79943901d           NaN   \n",
       "2         Rustic Metal Chair  507f1f77bcf86cd79943901e           NaN   \n",
       "3   Incredible Plastic Shirt  507f1f77bcf86cd79943901f           NaN   \n",
       "4   Handcrafted Rubber Mouse  507f1f77bcf86cd79943901d           NaN   \n",
       "\n",
       "                                                soup  \n",
       "0  phones&computers Practical Concrete Cheese Erg...  \n",
       "1  antiquesandprimitives Incredible Frozen Pants ...  \n",
       "2  electronics Rustic Metal Chair The slim & simp...  \n",
       "3  electronics Incredible Plastic Shirt The slim ...  \n",
       "4  automotives Handcrafted Rubber Mouse The Nagas...  "
      ]
     },
     "execution_count": 106,
     "metadata": {},
     "output_type": "execute_result"
    }
   ],
   "source": [
    "df2.head()"
   ]
  }
 ],
 "metadata": {
  "colab": {
   "collapsed_sections": [],
   "name": "auction_recommender_v2.ipynb",
   "provenance": []
  },
  "kernelspec": {
   "display_name": "Python 3",
   "language": "python",
   "name": "python3"
  },
  "language_info": {
   "codemirror_mode": {
    "name": "ipython",
    "version": 3
   },
   "file_extension": ".py",
   "mimetype": "text/x-python",
   "name": "python",
   "nbconvert_exporter": "python",
   "pygments_lexer": "ipython3",
   "version": "3.8.8"
  }
 },
 "nbformat": 4,
 "nbformat_minor": 5
}
